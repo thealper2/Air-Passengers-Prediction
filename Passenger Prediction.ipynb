{
 "cells": [
  {
   "cell_type": "code",
   "execution_count": null,
   "id": "c64c13d3-4930-4592-b535-7bf5fbfe3c61",
   "metadata": {},
   "outputs": [],
   "source": [
    "import numpy as np\n",
    "import pandas as pd\n",
    "import matplotlib.pyplot as plt\n",
    "import seaborn as sns\n",
    "import tensorflow as tf\n",
    "from tensorflow.keras.models import Sequential\n",
    "from tensorflow.keras.layers import Dense, LSTM\n",
    "from sklearn.preprocessing import MinMaxScaler\n",
    "\n",
    "np.random.seed(42)"
   ]
  },
  {
   "cell_type": "code",
   "execution_count": null,
   "id": "199017ef-1c83-4e27-9784-d120a84e7c0b",
   "metadata": {},
   "outputs": [],
   "source": [
    "df = pd.read_csv(\"AirPassengers.csv\")"
   ]
  },
  {
   "cell_type": "code",
   "execution_count": null,
   "id": "50e8b2ad-37b8-4ac0-81ee-792f419092f6",
   "metadata": {},
   "outputs": [],
   "source": [
    "df.head()"
   ]
  },
  {
   "cell_type": "code",
   "execution_count": null,
   "id": "756ae174-ed96-4c0b-8659-e105aab6780c",
   "metadata": {},
   "outputs": [],
   "source": [
    "df.info()"
   ]
  },
  {
   "cell_type": "code",
   "execution_count": null,
   "id": "403cbcc5-15c3-4322-8d54-8fa8ee410c23",
   "metadata": {},
   "outputs": [],
   "source": [
    "df.shape"
   ]
  },
  {
   "cell_type": "markdown",
   "id": "91acc245-cecc-4b10-9f46-12529d5d55f5",
   "metadata": {},
   "source": [
    "# EDA"
   ]
  },
  {
   "cell_type": "code",
   "execution_count": null,
   "id": "12f0212d-7a18-43f0-8cc6-baf2f8134417",
   "metadata": {},
   "outputs": [],
   "source": [
    "plt.figure(figsize=(25, 5))\n",
    "plt.plot_date(df[\"Month\"], df[\"#Passengers\"], \"b\")\n",
    "plt.xticks(rotation=90)\n",
    "plt.show()"
   ]
  },
  {
   "cell_type": "code",
   "execution_count": null,
   "id": "75b678ac-8da5-4f0b-9686-f0ea4754a12f",
   "metadata": {},
   "outputs": [],
   "source": [
    "df[\"Date\"] = pd.to_datetime(df[\"Month\"])\n",
    "df.drop(\"Month\", axis=1, inplace=True)"
   ]
  },
  {
   "cell_type": "code",
   "execution_count": null,
   "id": "bd0d66c0-7551-4213-95d4-0a2ec3b83def",
   "metadata": {},
   "outputs": [],
   "source": [
    "df.head()"
   ]
  },
  {
   "cell_type": "code",
   "execution_count": null,
   "id": "3b6d6a9d-996a-4110-aac0-b90d2d8c2f91",
   "metadata": {},
   "outputs": [],
   "source": [
    "df.info()"
   ]
  },
  {
   "cell_type": "code",
   "execution_count": null,
   "id": "356165f9-e812-45ca-9c1e-43a7aa49310d",
   "metadata": {},
   "outputs": [],
   "source": [
    "df[\"Month\"] = df[\"Date\"].apply(lambda date: date.month)\n",
    "df[\"Year\"] = df[\"Date\"].apply(lambda date: date.year)"
   ]
  },
  {
   "cell_type": "code",
   "execution_count": null,
   "id": "ac7d0fd2-f887-48c2-9750-4c7916677f6d",
   "metadata": {},
   "outputs": [],
   "source": [
    "df.head()"
   ]
  },
  {
   "cell_type": "code",
   "execution_count": null,
   "id": "ce85bcdc-23ab-4ad3-8f6d-9f2abddaea91",
   "metadata": {},
   "outputs": [],
   "source": [
    "for year in df[\"Year\"].unique():\n",
    "    plt.figure()\n",
    "    ax = sns.barplot(data=df[df[\"Year\"] == year], x=\"Month\", y=\"#Passengers\")\n",
    "    for container in ax.containers:\n",
    "        ax.bar_label(container)\n",
    "    plt.title(f\"Passengers per Month in {year}\")\n",
    "    plt.show()"
   ]
  },
  {
   "cell_type": "code",
   "execution_count": null,
   "id": "8191fe9d-81fc-45df-b32c-1d0997327abf",
   "metadata": {},
   "outputs": [],
   "source": [
    "passengers_per_years = df.groupby(\"Year\")[\"#Passengers\"].sum()"
   ]
  },
  {
   "cell_type": "code",
   "execution_count": null,
   "id": "db8de2a0-6ee9-4e2d-8ebd-b9c1e5c23e40",
   "metadata": {},
   "outputs": [],
   "source": [
    "passengers_per_years.plot(kind=\"bar\")"
   ]
  },
  {
   "cell_type": "code",
   "execution_count": null,
   "id": "e2632840-7926-4a85-bdc4-290d785bfcfd",
   "metadata": {},
   "outputs": [],
   "source": [
    "passengers_per_years.plot(kind=\"pie\", autopct=\"%0.1f%%\")"
   ]
  },
  {
   "cell_type": "code",
   "execution_count": null,
   "id": "2dd8573a-3127-4c7a-89ca-283703fb2ebf",
   "metadata": {},
   "outputs": [],
   "source": [
    "passengers_per_months = df.groupby(\"Month\")[\"#Passengers\"].sum()"
   ]
  },
  {
   "cell_type": "code",
   "execution_count": null,
   "id": "0b27ba74-92f6-4a42-bf34-10b7d281e514",
   "metadata": {},
   "outputs": [],
   "source": [
    "passengers_per_months.plot(kind=\"bar\")"
   ]
  },
  {
   "cell_type": "code",
   "execution_count": null,
   "id": "a83bcdbd-5c2a-4f20-a4c0-6f5f15f70573",
   "metadata": {},
   "outputs": [],
   "source": [
    "passengers_per_months.plot(kind=\"pie\", autopct=\"%0.1f%%\")"
   ]
  },
  {
   "cell_type": "markdown",
   "id": "d7e893a0-cfc4-4172-aeac-fecea5c3a1dc",
   "metadata": {},
   "source": [
    "# Preprocess"
   ]
  },
  {
   "cell_type": "code",
   "execution_count": null,
   "id": "d3314e72-1307-4ac3-b3d2-7874f15b2d75",
   "metadata": {},
   "outputs": [],
   "source": [
    "df.drop([\"Year\", \"Month\"], axis=1, inplace=True)"
   ]
  },
  {
   "cell_type": "code",
   "execution_count": null,
   "id": "f2f3f1dc-91e7-42f7-bcb4-d8b597dcc02f",
   "metadata": {},
   "outputs": [],
   "source": [
    "df.set_index(\"Date\", inplace=True)"
   ]
  },
  {
   "cell_type": "code",
   "execution_count": null,
   "id": "9baf2e2f-b9ec-48c1-8520-82af180a1edd",
   "metadata": {},
   "outputs": [],
   "source": [
    "df.head()"
   ]
  },
  {
   "cell_type": "code",
   "execution_count": null,
   "id": "d6b9d1be-09d7-4ed0-95b8-67ec760a5684",
   "metadata": {},
   "outputs": [],
   "source": [
    "df.plot()"
   ]
  },
  {
   "cell_type": "code",
   "execution_count": null,
   "id": "e27eefb8-5ae2-484e-986f-87b82a850577",
   "metadata": {},
   "outputs": [],
   "source": [
    "passengers = df[\"#Passengers\"]\n",
    "passengers = np.array(passengers).reshape(-1, 1)"
   ]
  },
  {
   "cell_type": "code",
   "execution_count": null,
   "id": "45bd1246-d79c-46c8-928e-28a62898fdbd",
   "metadata": {},
   "outputs": [],
   "source": [
    "scaler = MinMaxScaler()\n",
    "passengers_scaled = scaler.fit_transform(passengers)"
   ]
  },
  {
   "cell_type": "code",
   "execution_count": null,
   "id": "1858ea05-dac0-4c76-b6c2-bfea3a090026",
   "metadata": {},
   "outputs": [],
   "source": [
    "train_size = int(len(passengers_scaled) * 0.7)\n",
    "test_size = len(passengers_scaled) - train_size"
   ]
  },
  {
   "cell_type": "code",
   "execution_count": null,
   "id": "94b7c139-e62b-4a30-90fd-7c54ae58ea59",
   "metadata": {},
   "outputs": [],
   "source": [
    "print(\"Train size:\", train_size)\n",
    "print(\"Test size:\", test_size)"
   ]
  },
  {
   "cell_type": "code",
   "execution_count": null,
   "id": "4ba8fbad-f117-4f77-b562-8441878d8f97",
   "metadata": {},
   "outputs": [],
   "source": [
    "train = passengers_scaled[0:train_size, :] \n",
    "test = passengers_scaled[train_size:len(passengers_scaled), :]"
   ]
  },
  {
   "cell_type": "code",
   "execution_count": null,
   "id": "408758e2-6413-4ca5-97fa-2aae9664dff5",
   "metadata": {},
   "outputs": [],
   "source": [
    "def dataset(data, steps=1):\n",
    "    data_x, data_y = [], []\n",
    "    for i in range(len(data) - steps - 1):\n",
    "        a = data[i:(i + steps), 0]\n",
    "        b = data[i + steps, 0]\n",
    "        data_x.append(a)\n",
    "        data_y.append(b)\n",
    "    data_x = np.array(data_x)\n",
    "    data_y = np.array(data_y)\n",
    "    return data_x, data_y"
   ]
  },
  {
   "cell_type": "code",
   "execution_count": null,
   "id": "d18d94ea-f478-4352-92fe-d2ba3bbd618d",
   "metadata": {},
   "outputs": [],
   "source": [
    "X_train, y_train = dataset(train)\n",
    "X_test, y_test = dataset(test)"
   ]
  },
  {
   "cell_type": "code",
   "execution_count": null,
   "id": "5ed3d388-53a7-473f-b41e-f5d7e858728a",
   "metadata": {},
   "outputs": [],
   "source": [
    "X_train = np.reshape(X_train, (X_train.shape[0], 1, X_train.shape[1]))\n",
    "X_test = np.reshape(X_test, (X_test.shape[0], 1, X_test.shape[1]))"
   ]
  },
  {
   "cell_type": "markdown",
   "id": "6db6a05d-6423-4a48-ad50-a87d66dd61c3",
   "metadata": {},
   "source": [
    "# Model"
   ]
  },
  {
   "cell_type": "code",
   "execution_count": null,
   "id": "706f200d-01dd-4de8-a832-dfdca59e4e85",
   "metadata": {},
   "outputs": [],
   "source": [
    "model = Sequential()\n",
    "model.add(LSTM(4, input_shape=(1,1)))\n",
    "model.add(Dense(1))\n",
    "model.compile(loss=\"mean_squared_error\", optimizer=\"adam\")"
   ]
  },
  {
   "cell_type": "code",
   "execution_count": null,
   "id": "8d24b29b-22bf-4d60-bb7b-59ed85363599",
   "metadata": {},
   "outputs": [],
   "source": [
    "history = model.fit(X_train, y_train, batch_size=1, epochs=25)"
   ]
  },
  {
   "cell_type": "code",
   "execution_count": null,
   "id": "b2532646-4f37-4862-aad6-f411e8134a6f",
   "metadata": {},
   "outputs": [],
   "source": [
    "model.save(\"LSTM_air.h5\")"
   ]
  },
  {
   "cell_type": "code",
   "execution_count": null,
   "id": "c2064f3e-8b40-4fb8-985c-dac810bf22bc",
   "metadata": {},
   "outputs": [],
   "source": [
    "y_pred = model.predict(X_test)\n",
    "y_test = y_test.reshape(-1, 1)\n",
    "y_test = scaler.inverse_transform(y_test)"
   ]
  },
  {
   "cell_type": "code",
   "execution_count": null,
   "id": "05a9fa33-de91-41f7-8cdf-9ecab9b59808",
   "metadata": {},
   "outputs": [],
   "source": [
    "y_pred = scaler.inverse_transform(y_pred)"
   ]
  },
  {
   "cell_type": "code",
   "execution_count": null,
   "id": "562d6d0c-98d9-4aa6-a3f9-40d198601d10",
   "metadata": {},
   "outputs": [],
   "source": [
    "plt.figure()\n",
    "plt.plot(y_test, label=\"Actual\")\n",
    "plt.plot(y_pred, label=\"Predicted\")\n",
    "plt.legend()\n",
    "plt.show()"
   ]
  },
  {
   "cell_type": "code",
   "execution_count": null,
   "id": "1aab3d0e-9e3b-4fc8-8a79-cda63f596a8e",
   "metadata": {},
   "outputs": [],
   "source": []
  },
  {
   "cell_type": "code",
   "execution_count": null,
   "id": "d4289acf-238d-4012-b532-fb22c3b6cb18",
   "metadata": {},
   "outputs": [],
   "source": []
  },
  {
   "cell_type": "code",
   "execution_count": null,
   "id": "36679149-bb33-402b-bb32-f56186883879",
   "metadata": {},
   "outputs": [],
   "source": []
  }
 ],
 "metadata": {
  "kernelspec": {
   "display_name": "Python 3 (ipykernel)",
   "language": "python",
   "name": "python3"
  },
  "language_info": {
   "codemirror_mode": {
    "name": "ipython",
    "version": 3
   },
   "file_extension": ".py",
   "mimetype": "text/x-python",
   "name": "python",
   "nbconvert_exporter": "python",
   "pygments_lexer": "ipython3",
   "version": "3.10.12"
  }
 },
 "nbformat": 4,
 "nbformat_minor": 5
}
